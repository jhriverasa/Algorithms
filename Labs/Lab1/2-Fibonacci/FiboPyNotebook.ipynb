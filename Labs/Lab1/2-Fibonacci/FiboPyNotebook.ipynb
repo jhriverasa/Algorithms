{
 "cells": [
  {
   "cell_type": "markdown",
   "metadata": {},
   "source": [
    "# Computing Fibonacci n-th term.\n",
    "## By: Jhonatan Rivera Saumeth."
   ]
  },
  {
   "cell_type": "markdown",
   "metadata": {},
   "source": [
    "We are going to use `sys` module to return the max value for an `int` type variable."
   ]
  },
  {
   "cell_type": "code",
   "execution_count": null,
   "metadata": {},
   "outputs": [],
   "source": [
    "import sys\n",
    "#Create variables and assign their initial values.\n",
    "IntFn_2=0\n",
    "IntFn_1=1\n",
    "IntFn=0"
   ]
  },
  {
   "cell_type": "markdown",
   "metadata": {},
   "source": [
    "Try to compute 100-th term of fibonacci sequence, if n-th term is greater than max `int` value it prints (n-1)-th."
   ]
  },
  {
   "cell_type": "code",
   "execution_count": null,
   "metadata": {},
   "outputs": [],
   "source": [
    "n= 100\n",
    "overFlow=0\n",
    "for i in range(n):\n",
    "    IntAux=IntFn \n",
    "    IntFn_2=IntFn_1\n",
    "    IntFn_1=IntFn\n",
    "    IntFn=IntFn_2+IntFn_1\n",
    "    #--------------------\n",
    "    if(IntFn>sys.maxint and overFlow==0):\n",
    "        print (\"Overflow computing \"+str(i)+\"-th term of Fibonacci Sequence(data type: Int) \");\n",
    "        overFlow=1\n"
   ]
  },
  {
   "cell_type": "markdown",
   "metadata": {},
   "source": [
    "Python has two types of integer values, `int` and `long`, since [long does not have bounds](https://docs.python.org/2.4/lib/typesnumeric.html), we cant find an overflow using `long` data type."
   ]
  },
  {
   "cell_type": "markdown",
   "metadata": {},
   "source": [
    "let's discover what is the max term."
   ]
  },
  {
   "cell_type": "code",
   "execution_count": null,
   "metadata": {},
   "outputs": [],
   "source": [
    "import sys\n",
    "#Create variables and assign their initial values.\n",
    "IntFn_2=0\n",
    "IntFn_1=1\n",
    "IntFn=0\n",
    "n= 100\n",
    "overFlow=0\n",
    "for i in range(n):\n",
    "    IntAux=IntFn \n",
    "    IntFn_2=IntFn_1\n",
    "    IntFn_1=IntFn\n",
    "    IntFn=IntFn_2+IntFn_1\n",
    "    #--------------------\n",
    "    if(IntFn>sys.maxint and overFlow==0):\n",
    "        print (\"Overflow computing \"+str(i+1)+\"-th term of Fibonacci Sequence(data type: Int) \");\n",
    "        print(str(i)+\"-th term is: \"+str(IntFn_1)+\" and the next one is: \"+str(IntFn))\n",
    "        overFlow=1\n",
    "        print (\"Max int: \"+str(sys.maxint))"
   ]
  },
  {
   "cell_type": "markdown",
   "metadata": {},
   "source": [
    "As you can see max int is: \"2147483647\" (32-bit Signed int), after it\n",
    "python start to work with long values, we can verify it."
   ]
  },
  {
   "cell_type": "code",
   "execution_count": null,
   "metadata": {},
   "outputs": [],
   "source": [
    "import sys\n",
    "IntorLong = sys.maxint\n",
    "print type(IntorLong)\n",
    "IntorLong=IntorLong+1\n",
    "print type(IntorLong)"
   ]
  },
  {
   "cell_type": "markdown",
   "metadata": {},
   "source": [
    "Now, I'm going to use `matplotlib`, `numpy` and `time` libraries to draw a t vs n."
   ]
  },
  {
   "cell_type": "code",
   "execution_count": 28,
   "metadata": {},
   "outputs": [
    {
     "name": "stdout",
     "output_type": "stream",
     "text": [
      "--------------------------\n",
      "Mean: 3651.2105263157896\n",
      "Standard deviation: 1372.9241393903656\n"
     ]
    },
    {
     "data": {
      "image/png": "[encoded data removed]",
      "text/plain": [
       "<matplotlib.figure.Figure at 0xaee2cb8c>"
      ]
     },
     "metadata": {},
     "output_type": "display_data"
    }
   ],
   "source": [
    "import matplotlib.pyplot as plt \n",
    "import numpy as np \n",
    "import sys\n",
    "import time\n",
    "#Create variables and assign their initial values.\n",
    "x=[]\n",
    "for n in range(1,20):\n",
    "    IntFn_2=0\n",
    "    IntFn_1=1\n",
    "    IntFn=0\n",
    "    overFlow=0\n",
    "    \n",
    "    startTime=time.time()\n",
    "    for i in range(n):\n",
    "        IntAux=IntFn \n",
    "        IntFn_2=IntFn_1\n",
    "        IntFn_1=IntFn\n",
    "        IntFn=IntFn_2+IntFn_1\n",
    "        #-------------------- \n",
    "    duration=(time.time()-startTime)\n",
    "    x.append(int(duration*1000000000))\n",
    "plt.plot(x);\n",
    "plt.xlabel('n');\n",
    "plt.ylabel('time (nanoseconds)');\n",
    "\n",
    "print \"--------------------------\"\n",
    "print( \"Mean: \" + str(np.mean(x)))\n",
    "print(\"Standard deviation: \" + str(np.std(x)))\n"
   ]
  },
  {
   "cell_type": "code",
   "execution_count": null,
   "metadata": {},
   "outputs": [],
   "source": []
  }
 ],
 "metadata": {
  "kernelspec": {
   "display_name": "Python 2",
   "language": "python",
   "name": "python2"
  },
  "language_info": {
   "codemirror_mode": {
    "name": "ipython",
    "version": 2
   },
   "file_extension": ".py",
   "mimetype": "text/x-python",
   "name": "python",
   "nbconvert_exporter": "python",
   "pygments_lexer": "ipython2",
   "version": "2.7.12"
  }
 },
 "nbformat": 4,
 "nbformat_minor": 2
}
