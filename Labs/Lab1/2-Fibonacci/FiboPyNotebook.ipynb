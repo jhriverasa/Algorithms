{
 "cells": [
  {
   "cell_type": "markdown",
   "metadata": {},
   "source": [
    "# Computing Fibonacci n-th term.\n",
    "## By: Jhonatan Rivera Saumeth."
   ]
  },
  {
   "cell_type": "markdown",
   "metadata": {},
   "source": [
    "We are going to use `sys` module to return the max value for an `int` type variable."
   ]
  },
  {
   "cell_type": "code",
   "execution_count": null,
   "metadata": {},
   "outputs": [],
   "source": [
    "import sys\n",
    "#Create variables and assign their initial values.\n",
    "IntFn_2=0\n",
    "IntFn_1=1\n",
    "IntFn=0"
   ]
  },
  {
   "cell_type": "markdown",
   "metadata": {},
   "source": [
    "Try to compute 100-th term of fibonacci sequence, if n-th term is greater than max `int` value it prints (n-1)-th."
   ]
  },
  {
   "cell_type": "code",
   "execution_count": null,
   "metadata": {},
   "outputs": [],
   "source": [
    "n= 100\n",
    "overFlow=0\n",
    "for i in range(n):\n",
    "    IntAux=IntFn \n",
    "    IntFn_2=IntFn_1\n",
    "    IntFn_1=IntFn\n",
    "    IntFn=IntFn_2+IntFn_1\n",
    "    #--------------------\n",
    "    if(IntFn>sys.maxint and overFlow==0):\n",
    "        print (\"Overflow computing \"+str(i)+\"-th term of Fibonacci Sequence(data type: Int) \");\n",
    "        overFlow=1\n"
   ]
  },
  {
   "cell_type": "markdown",
   "metadata": {},
   "source": [
    "Python has two types of integer values, `int` and `long`, since [long does not have bounds](https://docs.python.org/2.4/lib/typesnumeric.html), we cant find an overflow using `long` data type."
   ]
  },
  {
   "cell_type": "markdown",
   "metadata": {},
   "source": [
    "let's discover what is the max term."
   ]
  },
  {
   "cell_type": "code",
   "execution_count": 9,
   "metadata": {},
   "outputs": [
    {
     "name": "stdout",
     "output_type": "stream",
     "text": [
      "Overflow computing 47-th term of Fibonacci Sequence(data type: Int) \n",
      "46-th term is: 1836311903 and the next one is: 2971215073\n",
      "Max int: 2147483647\n"
     ]
    }
   ],
   "source": [
    "import sys\n",
    "#Create variables and assign their initial values.\n",
    "IntFn_2=0\n",
    "IntFn_1=1\n",
    "IntFn=0\n",
    "n= 100\n",
    "overFlow=0\n",
    "for i in range(n):\n",
    "    IntAux=IntFn \n",
    "    IntFn_2=IntFn_1\n",
    "    IntFn_1=IntFn\n",
    "    IntFn=IntFn_2+IntFn_1\n",
    "    #--------------------\n",
    "    if(IntFn>sys.maxint and overFlow==0):\n",
    "        print (\"Overflow computing \"+str(i+1)+\"-th term of Fibonacci Sequence(data type: Int) \");\n",
    "        print(str(i)+\"-th term is: \"+str(IntFn_1)+\" and the next one is: \"+str(IntFn))\n",
    "        overFlow=1\n",
    "        print (\"Max int: \"+str(sys.maxint))"
   ]
  },
  {
   "cell_type": "markdown",
   "metadata": {},
   "source": [
    "As you can see max int is: \"2147483647\" (32-bit Signed int), after it\n",
    "python start to work with long values, we can verify it."
   ]
  },
  {
   "cell_type": "code",
   "execution_count": 12,
   "metadata": {},
   "outputs": [
    {
     "name": "stdout",
     "output_type": "stream",
     "text": [
      "<type 'int'>\n",
      "<type 'long'>\n"
     ]
    }
   ],
   "source": [
    "import sys\n",
    "IntorLong = sys.maxint\n",
    "print type(IntorLong)\n",
    "IntorLong=IntorLong+1\n",
    "print type(IntorLong)"
   ]
  },
  {
   "cell_type": "code",
   "execution_count": null,
   "metadata": {},
   "outputs": [],
   "source": []
  }
 ],
 "metadata": {
  "kernelspec": {
   "display_name": "Python 2",
   "language": "python",
   "name": "python2"
  },
  "language_info": {
   "codemirror_mode": {
    "name": "ipython",
    "version": 2
   },
   "file_extension": ".py",
   "mimetype": "text/x-python",
   "name": "python",
   "nbconvert_exporter": "python",
   "pygments_lexer": "ipython2",
   "version": "2.7.12"
  }
 },
 "nbformat": 4,
 "nbformat_minor": 2
}
